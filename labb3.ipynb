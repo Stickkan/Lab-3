{
 "cells": [
  {
   "cell_type": "code",
   "execution_count": 2,
   "metadata": {},
   "outputs": [],
   "source": [
    "#Import libraries\n",
    "\n",
    "import pandas as pd\n",
    "import numpy as np\n",
    "from sklearn.decomposition import PCA\n",
    "from sklearn import preprocessing\n",
    "import matplotlib.pyplot as plt\n"
   ]
  },
  {
   "cell_type": "code",
   "execution_count": 7,
   "metadata": {},
   "outputs": [
    {
     "name": "stdout",
     "output_type": "stream",
     "text": [
      "<class 'pandas.core.frame.DataFrame'>\n"
     ]
    },
    {
     "ename": "AttributeError",
     "evalue": "'PCA' object has no attribute 'explained_variance_ratio'",
     "output_type": "error",
     "traceback": [
      "\u001b[1;31m---------------------------------------------------------------------------\u001b[0m",
      "\u001b[1;31mAttributeError\u001b[0m                            Traceback (most recent call last)",
      "Cell \u001b[1;32mIn[7], line 12\u001b[0m\n\u001b[0;32m     10\u001b[0m pca\u001b[39m.\u001b[39mfit(scaled_data)\n\u001b[0;32m     11\u001b[0m pca_data \u001b[39m=\u001b[39m pca\u001b[39m.\u001b[39mtransform(scaled_data)\n\u001b[1;32m---> 12\u001b[0m per_val \u001b[39m=\u001b[39m np\u001b[39m.\u001b[39mround(pca\u001b[39m.\u001b[39;49mexplained_variance_ratio \u001b[39m*\u001b[39m\u001b[39m100\u001b[39m, decimals \u001b[39m=\u001b[39m \u001b[39m1\u001b[39m)\n\u001b[0;32m     13\u001b[0m labels \u001b[39m=\u001b[39m [\u001b[39m'\u001b[39m\u001b[39mPC\u001b[39m\u001b[39m'\u001b[39m \u001b[39m+\u001b[39m \u001b[39mstr\u001b[39m(x) \u001b[39min\u001b[39;00m \u001b[39mrange\u001b[39m(\u001b[39m1\u001b[39m, \u001b[39mlen\u001b[39m(per_val \u001b[39m+\u001b[39m\u001b[39m1\u001b[39m))]\n\u001b[0;32m     14\u001b[0m plt\u001b[39m.\u001b[39mylabel(\u001b[39m'\u001b[39m\u001b[39mPercentage of Explained Vvariance\u001b[39m\u001b[39m'\u001b[39m)\n",
      "\u001b[1;31mAttributeError\u001b[0m: 'PCA' object has no attribute 'explained_variance_ratio'"
     ]
    }
   ],
   "source": [
    "#Import, scale, perform PCA and plot data\n",
    "colnames = ['1','2','3','4','5','6','7','8','9','10','11','12','13','14']\n",
    "\n",
    "data = pd.read_csv('WINE.txt', names=colnames, usecols=['2','3','4','5','6','7','8','9','10','11','12','13','14'], delimiter=r\"\\s+\")\n",
    "print(type(data))\n",
    "\n",
    "data.head()\n",
    "scaled_data = preprocessing.scale(data.T)\n",
    "pca = PCA()\n",
    "pca.fit(scaled_data)\n",
    "pca_data = pca.transform(scaled_data)\n",
    "per_val = np.round(pca.explained_variance_ratio *100, decimals = 1)\n",
    "labels = ['PC' + str(x) in range(1, len(per_val +1))]\n",
    "plt.ylabel('Percentage of Explained Vvariance')\n",
    "plt.xlabel('Principal component')\n",
    "plt.title('Scree plot')\n",
    "plt.show()\n",
    "\n",
    "#pca_df = pd.DataFrame(pca_data,)"
   ]
  }
 ],
 "metadata": {
  "kernelspec": {
   "display_name": "test",
   "language": "python",
   "name": "python3"
  },
  "language_info": {
   "codemirror_mode": {
    "name": "ipython",
    "version": 3
   },
   "file_extension": ".py",
   "mimetype": "text/x-python",
   "name": "python",
   "nbconvert_exporter": "python",
   "pygments_lexer": "ipython3",
   "version": "3.10.6"
  },
  "orig_nbformat": 4,
  "vscode": {
   "interpreter": {
    "hash": "030bb7f84c0ecd7058091c295d3ecd7aea35bd3482dc5cfe50df7fa38f6b3655"
   }
  }
 },
 "nbformat": 4,
 "nbformat_minor": 2
}
