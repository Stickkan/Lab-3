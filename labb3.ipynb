{
 "cells": [
  {
   "cell_type": "code",
   "execution_count": 14,
   "metadata": {},
   "outputs": [],
   "source": [
    "#Import libraries\n",
    "\n",
    "import pandas as pd\n",
    "import numpy as np\n",
    "from sklearn.decomposition import PCA\n",
    "from sklearn import preprocessing\n",
    "import matplotlib.pyplot as plt\n"
   ]
  },
  {
   "cell_type": "code",
   "execution_count": 15,
   "metadata": {},
   "outputs": [
    {
     "data": {
      "text/html": [
       "<div>\n",
       "<style scoped>\n",
       "    .dataframe tbody tr th:only-of-type {\n",
       "        vertical-align: middle;\n",
       "    }\n",
       "\n",
       "    .dataframe tbody tr th {\n",
       "        vertical-align: top;\n",
       "    }\n",
       "\n",
       "    .dataframe thead th {\n",
       "        text-align: right;\n",
       "    }\n",
       "</style>\n",
       "<table border=\"1\" class=\"dataframe\">\n",
       "  <thead>\n",
       "    <tr style=\"text-align: right;\">\n",
       "      <th></th>\n",
       "      <th>1 14.23 1.71 2.43 15.6 127 2.8 3.06 .28 2.29 5.64 1.04 3.92 1065</th>\n",
       "    </tr>\n",
       "  </thead>\n",
       "  <tbody>\n",
       "    <tr>\n",
       "      <th>0</th>\n",
       "      <td>1 13.2 1.78 2.14 11.2 100 2.65 2.76 .26 1.28 4...</td>\n",
       "    </tr>\n",
       "    <tr>\n",
       "      <th>1</th>\n",
       "      <td>1 13.16 2.36 2.67 18.6 101 2.8 3.24 .3 2.81 5....</td>\n",
       "    </tr>\n",
       "    <tr>\n",
       "      <th>2</th>\n",
       "      <td>1 14.37 1.95 2.5 16.8 113 3.85 3.49 .24 2.18 7...</td>\n",
       "    </tr>\n",
       "    <tr>\n",
       "      <th>3</th>\n",
       "      <td>1 13.24 2.59 2.87 21 118 2.8 2.69 .39 1.82 4.3...</td>\n",
       "    </tr>\n",
       "    <tr>\n",
       "      <th>4</th>\n",
       "      <td>1 14.2 1.76 2.45 15.2 112 3.27 3.39 .34 1.97 6...</td>\n",
       "    </tr>\n",
       "  </tbody>\n",
       "</table>\n",
       "</div>"
      ],
      "text/plain": [
       "  1 14.23 1.71 2.43 15.6 127 2.8 3.06 .28 2.29 5.64 1.04 3.92 1065\n",
       "0  1 13.2 1.78 2.14 11.2 100 2.65 2.76 .26 1.28 4...              \n",
       "1  1 13.16 2.36 2.67 18.6 101 2.8 3.24 .3 2.81 5....              \n",
       "2  1 14.37 1.95 2.5 16.8 113 3.85 3.49 .24 2.18 7...              \n",
       "3  1 13.24 2.59 2.87 21 118 2.8 2.69 .39 1.82 4.3...              \n",
       "4  1 14.2 1.76 2.45 15.2 112 3.27 3.39 .34 1.97 6...              "
      ]
     },
     "execution_count": 15,
     "metadata": {},
     "output_type": "execute_result"
    }
   ],
   "source": [
    "#Import, scale, perform PCA and plot data\n",
    "data = pd.read_csv('WINE.txt')\n",
    "data.head()\n",
    "scaled_data = preprocessing.scale(data.T)\n",
    "pca = PCA()\n",
    "pca.fit(scaled_data)\n",
    "pca_data = pca.transform(scaled_data)\n",
    "per_val = np.round(pca.explained_variance_ratio *100, decimals = 1)\n",
    "labels = ['PC' + str(x) in range(1, len(per_var +1))]\n",
    "plt.ylabel('Percentage of Explained Vvariance')\n",
    "plt.xlabel('Principal component')\n",
    "plt.title('Scree plot')\n",
    "plt.show()\n",
    "\n",
    "#pca_df = pd.DataFrame(pca_data,)"
   ]
  }
 ],
 "metadata": {
  "kernelspec": {
   "display_name": "test",
   "language": "python",
   "name": "python3"
  },
  "language_info": {
   "codemirror_mode": {
    "name": "ipython",
    "version": 3
   },
   "file_extension": ".py",
   "mimetype": "text/x-python",
   "name": "python",
   "nbconvert_exporter": "python",
   "pygments_lexer": "ipython3",
   "version": "3.10.6 | packaged by conda-forge | (main, Oct 24 2022, 16:02:16) [MSC v.1916 64 bit (AMD64)]"
  },
  "orig_nbformat": 4,
  "vscode": {
   "interpreter": {
    "hash": "030bb7f84c0ecd7058091c295d3ecd7aea35bd3482dc5cfe50df7fa38f6b3655"
   }
  }
 },
 "nbformat": 4,
 "nbformat_minor": 2
}
