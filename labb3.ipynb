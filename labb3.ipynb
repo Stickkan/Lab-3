{
 "cells": [
  {
   "cell_type": "code",
   "execution_count": 24,
   "metadata": {},
   "outputs": [],
   "source": [
    "#Import libraries\n",
    "\n",
    "import pandas as pd\n",
    "import numpy as np\n",
    "from sklearn.decomposition import PCA\n",
    "from sklearn import preprocessing\n",
    "import matplotlib.pyplot as plt\n"
   ]
  },
  {
   "cell_type": "code",
   "execution_count": 26,
   "metadata": {},
   "outputs": [
    {
     "ename": "SyntaxError",
     "evalue": "invalid syntax (1466374290.py, line 23)",
     "output_type": "error",
     "traceback": [
      "\u001b[1;36m  File \u001b[1;32m\"C:\\Users\\vp96\\AppData\\Local\\Temp\\ipykernel_17876\\1466374290.py\"\u001b[1;36m, line \u001b[1;32m23\u001b[0m\n\u001b[1;33m    for sample in pca_df index:\u001b[0m\n\u001b[1;37m                         ^\u001b[0m\n\u001b[1;31mSyntaxError\u001b[0m\u001b[1;31m:\u001b[0m invalid syntax\n"
     ]
    }
   ],
   "source": [
    "#Import, scale, perform PCA and plot data\n",
    "data = pd.read_csv('WINE.txt')\n",
    "#'pandas.core.frame.DataFrame'\n",
    "data['WINE.txt'] = data['WINE.txt'].astype(float)\n",
    "data.head()\n",
    "scaled_data = preprocessing.scale(data.T)\n",
    "pca = PCA()\n",
    "pca.fit(scaled_data)\n",
    "pca_data = pca.transform(scaled_data)\n",
    "per_val = np.round(pca.explained_variance_ratio *100, decimals = 1)\n",
    "labels = ['PC' + str(x) in range(1, len(per_var +1))]\n",
    "plt.ylabel('Percentage of Explained Vvariance')\n",
    "plt.xlabel('Principal component')\n",
    "plt.title('Scree plot')\n",
    "plt.show()\n",
    "\n",
    "#pca_df = pd.DataFrame(pca_data,)\n",
    "plt.scatter(pca_df.PC1, pca_df.PC2)\n",
    "plt.title('PCA Graph')\n",
    "plt.xlabel('PCA1 - {0}%.format(per_var[0])')\n",
    "plt.ylabel('PCA2 - {0}%.format(per_var[1])')\n",
    "\n",
    "for sample in pca_df index:\n",
    "    plt.annotate(sample,(pca_df.PC1.loc[sample], pca_df.PC2.loc[sample]))\n",
    "\n",
    "plt.show()"
   ]
  },
  {
   "cell_type": "code",
   "execution_count": null,
   "metadata": {},
   "outputs": [],
   "source": []
  }
 ],
 "metadata": {
  "kernelspec": {
   "display_name": "Python 3.9.13 ('base')",
   "language": "python",
   "name": "python3"
  },
  "language_info": {
   "codemirror_mode": {
    "name": "ipython",
    "version": 3
   },
   "file_extension": ".py",
   "mimetype": "text/x-python",
   "name": "python",
   "nbconvert_exporter": "python",
   "pygments_lexer": "ipython3",
   "version": "3.9.13"
  },
  "orig_nbformat": 4,
  "vscode": {
   "interpreter": {
    "hash": "6a45dcbcf0cc057c3a882a8405a5c629517c3b3fcada2a727a0c242a67246d8c"
   }
  }
 },
 "nbformat": 4,
 "nbformat_minor": 2
}
